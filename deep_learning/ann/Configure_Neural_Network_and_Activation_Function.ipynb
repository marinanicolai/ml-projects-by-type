{
 "cells": [
  {
   "cell_type": "markdown",
   "metadata": {
    "id": "RXLA17HEB2mu"
   },
   "source": [
    "# __Assisted Practice: Configuring Neural Network and Activation Function__\n",
    "- Configuring a neural network involves setting various parameters and architectural choices to define the structure and behavior of the network.\n",
    "Let's understand how to configure neural network in Python.\n",
    "\n",
    "- An activation function determines the output of a neuron based on the weighted sum of its inputs, introducing non-linearity and enabling complex modeling in neural networks.\n",
    "Let's understand how to build a simple neural network in Python, considering the activation function as tanh.\n",
    "\n",
    "Let's understand how to build a perceptron-based classification model."
   ]
  },
  {
   "cell_type": "markdown",
   "metadata": {
    "id": "Pn1xur4f8S4U"
   },
   "source": [
    "## Steps to be followed:\n",
    "1. Import the required libraries\n",
    "2. Initialize the weights\n",
    "3. Update the weights\n",
    "4. Initialize the think function and neural network\n",
    "5. Train the neural network"
   ]
  },
  {
   "cell_type": "markdown",
   "metadata": {
    "id": "2l2fj6xLDNiO"
   },
   "source": [
    "### Step 1: Import the required libraries\n",
    "\n",
    "- Import the necessary modules for numerical computations and define functions for exponential calculations, array operations, random number generation, and matrix multiplication."
   ]
  },
  {
   "cell_type": "code",
   "execution_count": 1,
   "metadata": {
    "executionInfo": {
     "elapsed": 4,
     "status": "ok",
     "timestamp": 1719060828919,
     "user": {
      "displayName": "Aleena Raj",
      "userId": "16635257578699511263"
     },
     "user_tz": -330
    },
    "id": "ir_8tK9NDtcQ"
   },
   "outputs": [],
   "source": [
    "import numpy as np\n",
    "from numpy import exp, array, random, dot"
   ]
  },
  {
   "cell_type": "markdown",
   "metadata": {
    "id": "5GUp2vgJDwDW"
   },
   "source": [
    "### Step 2: Initialize the weights\n",
    "\n",
    "- Define a class with the name __NeuralNetwork__.\n",
    "- Seed the random number generator so it generates the same numbers every time the program runs.\n",
    "- Assign random weights to a 3X1 matrix, with values in the range __-1__ to __1__ and a mean of __0__.\n",
    "- Use the __tanh__ function to describe an S-shaped curve.\n",
    "\n",
    "\n",
    "\n",
    "### Step 3: Update the weights\n",
    "- Train the neural network through a process of trial and error.\n",
    "- Adjust the synaptic weights each time.\n",
    "- Pass the training set through a neural network (a single neuron).\n",
    "-  Calculate the error (the difference between the desired and predicted outputs).\n",
    "- Adjust the weights.\n",
    "\n",
    "\n"
   ]
  },
  {
   "cell_type": "code",
   "execution_count": 5,
   "metadata": {
    "executionInfo": {
     "elapsed": 388,
     "status": "ok",
     "timestamp": 1719061338036,
     "user": {
      "displayName": "Aleena Raj",
      "userId": "16635257578699511263"
     },
     "user_tz": -330
    },
    "id": "TdzG4wNUc5Zg"
   },
   "outputs": [],
   "source": [
    "class NeuralNetwork():\n",
    "    def __init__(self):\n",
    "        # Seed the random number generator to ensure reproducible results\n",
    "        np.random.seed(2)\n",
    "        # Initialize the synaptic weights to a 3x1 matrix with values in the range [-1, 1]\n",
    "        self.synaptic_weights = 2 * np.random.random((3, 1)) - 1\n",
    "\n",
    "    def __tanh(self, x):\n",
    "        # Apply the hyperbolic tangent (tanh) activation function\n",
    "        return np.tanh(x)\n",
    "\n",
    "    def __tanh_derivative(self, x):\n",
    "        # Calculate the derivative of the tanh function for backpropagation\n",
    "        return 1 - np.tanh(x)**2\n",
    "\n",
    "    def __train__(self, training_set_inputs, training_set_outputs, number_of_training_iterations):\n",
    "        # Train the neural network through a process of adjusting weights\n",
    "        for iteration in range(number_of_training_iterations):\n",
    "            # Pass the training set through the neural network (single neuron)\n",
    "            output = self.think(training_set_inputs)\n",
    "            # Calculate the error (difference between the desired and predicted outputs)\n",
    "            error = training_set_outputs - output\n",
    "            # Calculate the adjustment to be made to the weights\n",
    "            adjustment = np.dot(training_set_inputs.T, error * self.__tanh_derivative(output))\n",
    "            # Adjust the synaptic weights\n",
    "            self.synaptic_weights += adjustment\n",
    "\n",
    "    def think(self, inputs):\n",
    "        # Pass inputs through the neural network to get the output\n",
    "        return self.__tanh(np.dot(inputs, self.synaptic_weights))"
   ]
  },
  {
   "cell_type": "markdown",
   "metadata": {
    "id": "IVDLS5RAIX5j"
   },
   "source": [
    "### Step 4: Initialize the think function and neural network\n",
    "- The __think__ function calculates the dot product between an array of inputs and the neural network's synaptic weights. It then applies the hyperbolic tangent activation function, __tanh__, to the result and returns the output.\n",
    "- The main code block creates an instance of the __NeuralNetwork__ class and prints the initial random values of the synaptic weights.\n",
    "- The **training_set_inputs** variable represents the input data for training the neural network.\n",
    "- The training set input is a 2D array where each row corresponds to a set of input values.\n",
    "- The **training_set_outputs** variable represents the corresponding output values for the training set.\n",
    "- The training set output is a 2D array where each row corresponds to the expected output for the corresponding input set."
   ]
  },
  {
   "cell_type": "code",
   "execution_count": 6,
   "metadata": {
    "colab": {
     "base_uri": "https://localhost:8080/"
    },
    "executionInfo": {
     "elapsed": 582,
     "status": "ok",
     "timestamp": 1719061343163,
     "user": {
      "displayName": "Aleena Raj",
      "userId": "16635257578699511263"
     },
     "user_tz": -330
    },
    "id": "yyHM7PAhIy1t",
    "outputId": "d89032dc-8b57-4e85-9ff8-96416e971bf9"
   },
   "outputs": [
    {
     "name": "stdout",
     "output_type": "stream",
     "text": [
      "Random starting synaptic weights:\n",
      "[[-0.1280102 ]\n",
      " [-0.94814754]\n",
      " [ 0.09932496]]\n"
     ]
    }
   ],
   "source": [
    "if __name__ == \"__main__\":\n",
    "    # Create an instance of the NeuralNetwork class\n",
    "    neural_network = NeuralNetwork()\n",
    "\n",
    "    # Print the initial random synaptic weights\n",
    "    print(\"Random starting synaptic weights:\")\n",
    "    print(neural_network.synaptic_weights)\n",
    "\n",
    "    # Define the training set inputs and outputs\n",
    "    training_set_inputs = np.array([[0, 0, 1], [1, 1, 1], [1, 0, 1], [0, 1, 1]])\n",
    "    training_set_outputs = np.array([[0, 1, 1, 0]]).T"
   ]
  },
  {
   "cell_type": "markdown",
   "metadata": {
    "id": "YTRdrtWAJc3Z"
   },
   "source": [
    "**Observations:**\n",
    "- The random starting synaptic weights are initialized with three values represented as a 2D array.\n",
    "- Each value in the array corresponds to the synaptic weight connecting the input neurons to the single output neuron of the neural network.\n",
    "- The values of the synaptic weights are randomly generated.\n",
    "- In this case, the weights are approximately **-0.12801**, **-0.94814**, and **0.09932**.\n",
    "\n"
   ]
  },
  {
   "cell_type": "markdown",
   "metadata": {
    "id": "7bIhQ047J7bs"
   },
   "source": [
    "### Step 5: Train the neural network\n",
    "- Train the neural network using training sets.\n",
    "- Perform training sets __10,000__ times and make small adjustments each time.\n",
    "- Test the neural network with a new situation."
   ]
  },
  {
   "cell_type": "code",
   "execution_count": 7,
   "metadata": {
    "colab": {
     "base_uri": "https://localhost:8080/"
    },
    "executionInfo": {
     "elapsed": 441,
     "status": "ok",
     "timestamp": 1719061348943,
     "user": {
      "displayName": "Aleena Raj",
      "userId": "16635257578699511263"
     },
     "user_tz": -330
    },
    "id": "V5XlZn08KQqU",
    "outputId": "f9c2a020-06d2-4299-9943-4ec1c1061ca9"
   },
   "outputs": [
    {
     "name": "stdout",
     "output_type": "stream",
     "text": [
      "New synaptic weights after training:\n",
      "[[ 5.39440666]\n",
      " [-0.1947217 ]\n",
      " [-0.34310257]]\n",
      "Considering new situation [1, 0, 0] -> ?:\n",
      "[0.99995874]\n"
     ]
    }
   ],
   "source": [
    "    # Train the neural network with the training set\n",
    "    neural_network.__train__(training_set_inputs, training_set_outputs, 10000)\n",
    "\n",
    "    # Print the new synaptic weights after training\n",
    "    print(\"New synaptic weights after training:\")\n",
    "    print(neural_network.synaptic_weights)\n",
    "\n",
    "    # Test the neural network with a new situation\n",
    "    print(\"Considering new situation [1, 0, 0] -> ?:\")\n",
    "    print(neural_network.think(np.array([1, 0, 0])))"
   ]
  },
  {
   "cell_type": "markdown",
   "metadata": {
    "id": "aV50T8szK0ht"
   },
   "source": [
    "**Observations:**\n",
    "\n",
    "- After training, the synaptic weights of the neural network are updated.\n",
    "- The updated synaptic weights are approximately $5.39440666$, $-0.1947217$, and $-0.34310257$.\n",
    "- The neural network is then provided with the new inputs of $1$, $0$, and $0$.\n",
    "- The predicted output by the neural network for these inputs is approximately $0.99995$.\n",
    "- The output represents the result of passing the inputs through the neural network after training, indicating the network's prediction or response."
   ]
  },
  {
   "cell_type": "code",
   "execution_count": null,
   "metadata": {
    "id": "a9SYNh51fV-H"
   },
   "outputs": [],
   "source": []
  }
 ],
 "metadata": {
  "colab": {
   "provenance": []
  },
  "kernelspec": {
   "display_name": "Python 3 [3.10]",
   "language": "python",
   "name": "python3"
  },
  "language_info": {
   "codemirror_mode": {
    "name": "ipython",
    "version": 3
   },
   "file_extension": ".py",
   "mimetype": "text/x-python",
   "name": "python",
   "nbconvert_exporter": "python",
   "pygments_lexer": "ipython3",
   "version": "3.10.2"
  }
 },
 "nbformat": 4,
 "nbformat_minor": 4
}
